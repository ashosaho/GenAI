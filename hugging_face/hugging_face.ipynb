{
 "cells": [
  {
   "cell_type": "code",
   "execution_count": 1,
   "id": "91f94d4d-4679-439e-899d-9f20019d2ff9",
   "metadata": {},
   "outputs": [],
   "source": [
    "# Define the HuggingFace token\n",
    "huggingface_api_token=\"******\" #Replace with your token\n",
    "import os\n",
    "os.environ[\"HUGGINGFACEHUB_API_TOKEN\"]=huggingface_api_token"
   ]
  },
  {
   "cell_type": "code",
   "execution_count": 2,
   "id": "91f7caef-328d-4e13-8645-d73a49c0e5ac",
   "metadata": {},
   "outputs": [],
   "source": [
    "#import agent and tools related libraries\n",
    "#from langchain.agents import initialize_agent\n",
    "#from langchain.agents import AgentType\n",
    "#from langchain_experimental.tools.python.tool import PythonREPLTool"
   ]
  },
  {
   "cell_type": "code",
   "execution_count": 3,
   "id": "926592b1-2577-496e-afb1-f24a41f9e8a3",
   "metadata": {},
   "outputs": [],
   "source": [
    "#create a python repl tool\n",
    "#tools = [PythonREPLTool()]"
   ]
  },
  {
   "cell_type": "code",
   "execution_count": 4,
   "id": "3a28fde2-5bd0-4d3e-b3f6-33e178a2fba6",
   "metadata": {},
   "outputs": [],
   "source": [
    "# Import huggingface client\n",
    "from langchain.llms import HuggingFaceHub"
   ]
  },
  {
   "cell_type": "code",
   "execution_count": 5,
   "id": "8c0210a4-488e-481f-a927-a900e3c2ad21",
   "metadata": {},
   "outputs": [
    {
     "name": "stderr",
     "output_type": "stream",
     "text": [
      "C:\\Users\\91782\\AppData\\Local\\Programs\\Python\\Python310\\lib\\site-packages\\langchain_core\\_api\\deprecation.py:117: LangChainDeprecationWarning: The class `langchain_community.llms.huggingface_hub.HuggingFaceHub` was deprecated in langchain-community 0.0.21 and will be removed in 0.2.0. Use HuggingFaceEndpoint instead.\n",
      "  warn_deprecated(\n"
     ]
    }
   ],
   "source": [
    "huggingfacehub_llm = HuggingFaceHub(\n",
    "    model_kwargs={\"temperature\": 0.2, \"max_length\": 64},\n",
    "    repo_id=\"google/flan-t5-base\"\n",
    ")"
   ]
  },
  {
   "cell_type": "code",
   "execution_count": 6,
   "id": "e6208e23-2423-472c-b321-ff4772ffc6c7",
   "metadata": {},
   "outputs": [],
   "source": [
    "prompt = \"What is the capital of India?\""
   ]
  },
  {
   "cell_type": "code",
   "execution_count": 7,
   "id": "a8b74ad8-e398-43e0-8be0-f0fc6c6a0ce2",
   "metadata": {},
   "outputs": [
    {
     "name": "stderr",
     "output_type": "stream",
     "text": [
      "C:\\Users\\91782\\AppData\\Local\\Programs\\Python\\Python310\\lib\\site-packages\\langchain_core\\_api\\deprecation.py:117: LangChainDeprecationWarning: The function `__call__` was deprecated in LangChain 0.1.7 and will be removed in 0.2.0. Use invoke instead.\n",
      "  warn_deprecated(\n"
     ]
    }
   ],
   "source": [
    "completion = huggingfacehub_llm(prompt)"
   ]
  },
  {
   "cell_type": "code",
   "execution_count": 8,
   "id": "95e29ae4-c14b-484f-8b23-47f8e5f220de",
   "metadata": {},
   "outputs": [
    {
     "name": "stdout",
     "output_type": "stream",
     "text": [
      "chennai\n"
     ]
    }
   ],
   "source": [
    "print(completion)"
   ]
  }
 ],
 "metadata": {
  "kernelspec": {
   "display_name": "Python 3 (ipykernel)",
   "language": "python",
   "name": "python3"
  },
  "language_info": {
   "codemirror_mode": {
    "name": "ipython",
    "version": 3
   },
   "file_extension": ".py",
   "mimetype": "text/x-python",
   "name": "python",
   "nbconvert_exporter": "python",
   "pygments_lexer": "ipython3",
   "version": "3.10.7"
  }
 },
 "nbformat": 4,
 "nbformat_minor": 5
}
