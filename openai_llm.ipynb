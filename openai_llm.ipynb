{
 "cells": [
  {
   "cell_type": "code",
   "execution_count": null,
   "id": "6e025c21-e104-47a8-bf14-7ed0372afec6",
   "metadata": {},
   "outputs": [],
   "source": [
    "open_api_token=\"****\" #Replace with your token\n",
    "import os\n",
    "os.environ[\"OPENAI_API_KEY\"]=open_api_token"
   ]
  },
  {
   "cell_type": "code",
   "execution_count": null,
   "id": "f3e717b5-a521-4836-b5f0-bf10f83478e6",
   "metadata": {},
   "outputs": [],
   "source": [
    "#import agent and tools related libraries\n",
    "from langchain.agents import initialize_agent\n",
    "from langchain.agents import AgentType\n",
    "from langchain_experimental.tools.python.tool import PythonREPLTool"
   ]
  },
  {
   "cell_type": "code",
   "execution_count": null,
   "id": "9ff5c40b-d8c1-4b67-8296-ec3578166a42",
   "metadata": {},
   "outputs": [],
   "source": [
    "#create a python repl tool\n",
    "tools = [PythonREPLTool()]"
   ]
  },
  {
   "cell_type": "code",
   "execution_count": null,
   "id": "695e6a26-3edf-4041-97e8-a180ea223382",
   "metadata": {},
   "outputs": [],
   "source": [
    "# Import OpenAI client\n",
    "from langchain.llms import OpenAI"
   ]
  },
  {
   "cell_type": "code",
   "execution_count": null,
   "id": "ca32275b-91bd-4aff-9564-7c2ef3dfa02c",
   "metadata": {},
   "outputs": [],
   "source": [
    "#define the OpenAI LLM\n",
    "open_ai_llm=OpenAI(temperature=0., model=\"gpt-3.5-turbo\")"
   ]
  },
  {
   "cell_type": "code",
   "execution_count": null,
   "id": "5e054ef5-4313-4687-8bc4-072933a6c94b",
   "metadata": {},
   "outputs": [],
   "source": [
    "#Initialize the agent\n",
    "agent = initialize_agent(tools, open_ai_llm, agent=AgentType.ZERO_SHOT_REACT_DESCRIPTION, verbose=True)"
   ]
  },
  {
   "cell_type": "code",
   "execution_count": null,
   "id": "cd8a9e53-029a-4e6d-84ee-414f3c4eced7",
   "metadata": {},
   "outputs": [],
   "source": [
    "agent.run(\"What is 4 + 4\")"
   ]
  },
  {
   "cell_type": "code",
   "execution_count": null,
   "id": "93d9feb3-068f-4a81-a00c-078efa9b5e65",
   "metadata": {},
   "outputs": [],
   "source": []
  }
 ],
 "metadata": {
  "kernelspec": {
   "display_name": "Python 3 (ipykernel)",
   "language": "python",
   "name": "python3"
  },
  "language_info": {
   "codemirror_mode": {
    "name": "ipython",
    "version": 3
   },
   "file_extension": ".py",
   "mimetype": "text/x-python",
   "name": "python",
   "nbconvert_exporter": "python",
   "pygments_lexer": "ipython3",
   "version": "3.10.7"
  }
 },
 "nbformat": 4,
 "nbformat_minor": 5
}
