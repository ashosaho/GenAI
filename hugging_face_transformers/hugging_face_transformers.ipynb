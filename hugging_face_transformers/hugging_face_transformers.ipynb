{
 "cells": [
  {
   "cell_type": "code",
   "execution_count": null,
   "id": "be99f7de-05e7-4e5c-aa8b-a8eb3bcdb924",
   "metadata": {},
   "outputs": [],
   "source": [
    "from transformers import pipeline\n",
    "import torch"
   ]
  },
  {
   "cell_type": "code",
   "execution_count": null,
   "id": "23c4d529-2f89-4e93-bba9-b68b2c33b8c4",
   "metadata": {},
   "outputs": [],
   "source": [
    "generate_text = pipeline(\n",
    "    model=\"aisquared/dlite-v1-355m\",\n",
    "    torch_dtype=torch.bfloat16,\n",
    "    trust_remote_code=True,\n",
    "    device_map=\"auto\",\n",
    "    framework=\"pt\"\n",
    ")\n",
    "    "
   ]
  },
  {
   "cell_type": "code",
   "execution_count": null,
   "id": "8980f660-9237-4b32-8134-7ba17f12394e",
   "metadata": {},
   "outputs": [],
   "source": [
    "generate_text(\"In this chapter, we will discusses first steps with generative AI in python.\")"
   ]
  },
  {
   "cell_type": "code",
   "execution_count": null,
   "id": "d8ffe645-112e-4898-9b74-cf6312b7f31e",
   "metadata": {},
   "outputs": [],
   "source": [
    "from langchain import PromptTemplate, LLMChain"
   ]
  },
  {
   "cell_type": "code",
   "execution_count": null,
   "id": "e8df13e6-317a-4698-920f-4fea44d79c10",
   "metadata": {},
   "outputs": [],
   "source": [
    "template = \"\"\"Question: {question} Answer: Let's think step vy srep.\"\"\"\n",
    "prompt = PromptTemplate(template=template, input_variables=[\"questions\"])\n",
    "llm_chain = LLMChain(prompt=prompt, llm=generate_text)\n",
    "question = \"What is electroencephalography?\""
   ]
  },
  {
   "cell_type": "code",
   "execution_count": null,
   "id": "2209106a-c404-442f-a0f6-2e124649f5ee",
   "metadata": {},
   "outputs": [],
   "source": [
    "print(llm_chain.run(question))"
   ]
  }
 ],
 "metadata": {
  "kernelspec": {
   "display_name": "Python 3 (ipykernel)",
   "language": "python",
   "name": "python3"
  },
  "language_info": {
   "codemirror_mode": {
    "name": "ipython",
    "version": 3
   },
   "file_extension": ".py",
   "mimetype": "text/x-python",
   "name": "python",
   "nbconvert_exporter": "python",
   "pygments_lexer": "ipython3",
   "version": "3.10.7"
  }
 },
 "nbformat": 4,
 "nbformat_minor": 5
}
