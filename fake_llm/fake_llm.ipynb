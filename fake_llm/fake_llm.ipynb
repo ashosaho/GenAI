{
 "cells": [
  {
   "cell_type": "code",
   "execution_count": 1,
   "id": "fdcdeedd-5ed3-4d58-a29f-0963be9b2079",
   "metadata": {},
   "outputs": [
    {
     "name": "stdout",
     "output_type": "stream",
     "text": [
      "Hello 1\n"
     ]
    }
   ],
   "source": [
    "#This block of code defines a fake llm with predefined messages and then invokes it\n",
    "\n",
    "#Import FakeLLM\n",
    "from langchain_community.llms.fake import FakeListLLM\n",
    "\n",
    "# Initialize with predefined responses\n",
    "fake_llm = FakeListLLM(responses=[\"Hello 1\", \"Hello 2\"])\n",
    "\n",
    "# Invoke the fake LLM\n",
    "response = fake_llm.invoke(\"Say Hello\")\n",
    "print(response)"
   ]
  },
  {
   "cell_type": "code",
   "execution_count": 2,
   "id": "8c17aec9-1943-4a8e-82fa-791f4ce6ebdd",
   "metadata": {},
   "outputs": [
    {
     "name": "stderr",
     "output_type": "stream",
     "text": [
      "Python REPL can execute arbitrary code. Use with caution.\n"
     ]
    },
    {
     "name": "stdout",
     "output_type": "stream",
     "text": [
      "4\n",
      "\n"
     ]
    }
   ],
   "source": [
    "#This block of code defines a python repl tool and invokes a sample python command\n",
    "\n",
    "#import the python repl tool\n",
    "from langchain_experimental.tools.python.tool import PythonREPLTool\n",
    "\n",
    "# Initialize the tool\n",
    "python_repl = PythonREPLTool()\n",
    "\n",
    "# Example usage\n",
    "result = python_repl.invoke(\"print(2 + 2)\")\n",
    "print(result) "
   ]
  },
  {
   "cell_type": "code",
   "execution_count": 3,
   "id": "036393e4-8a30-4bd8-99f7-5b36e3ab4d56",
   "metadata": {},
   "outputs": [],
   "source": [
    "#Import the fake llm\n",
    "from langchain.llms.fake import FakeListLLM\n",
    "\n",
    "#import agent and tools related libraries\n",
    "from langchain.agents import initialize_agent\n",
    "from langchain.agents import AgentType\n",
    "from langchain_experimental.tools.python.tool import PythonREPLTool"
   ]
  },
  {
   "cell_type": "code",
   "execution_count": 4,
   "id": "81019e0f-fcd6-4088-8636-6ffe860c526a",
   "metadata": {},
   "outputs": [],
   "source": [
    "#create a python repl tool\n",
    "tools = [PythonREPLTool()]"
   ]
  },
  {
   "cell_type": "code",
   "execution_count": 5,
   "id": "c75dd68d-c6bc-4cd3-ac9c-93ff88118669",
   "metadata": {},
   "outputs": [],
   "source": [
    "#create fake responses for the fake llm\n",
    "responses = [\"Action: Python_REPL\\n Action Input: print(2+2)\", \"Final Answer: 4\"]\n",
    "llm = FakeListLLM(responses=responses)"
   ]
  },
  {
   "cell_type": "code",
   "execution_count": 6,
   "id": "119c8058-e40b-4b5d-ad20-d22012fd33ce",
   "metadata": {},
   "outputs": [
    {
     "name": "stderr",
     "output_type": "stream",
     "text": [
      "C:\\Users\\91782\\AppData\\Local\\Programs\\Python\\Python310\\lib\\site-packages\\langchain_core\\_api\\deprecation.py:117: LangChainDeprecationWarning: The function `initialize_agent` was deprecated in LangChain 0.1.0 and will be removed in 0.2.0. Use Use new agent constructor methods like create_react_agent, create_json_agent, create_structured_chat_agent, etc. instead.\n",
      "  warn_deprecated(\n"
     ]
    }
   ],
   "source": [
    "#Initialize the agent\n",
    "agent = initialize_agent(tools, llm, agent=AgentType.ZERO_SHOT_REACT_DESCRIPTION, verbose=True)"
   ]
  },
  {
   "cell_type": "code",
   "execution_count": 7,
   "id": "f96d62b5-a3a2-4366-9deb-16b1591c09e5",
   "metadata": {
    "scrolled": true
   },
   "outputs": [
    {
     "name": "stdout",
     "output_type": "stream",
     "text": [
      "\n",
      "\n",
      "\u001b[1m> Entering new AgentExecutor chain...\u001b[0m\n",
      "\u001b[32;1m\u001b[1;3mAction: Python_REPL\n",
      " Action Input: print(2+2)\u001b[0m\n",
      "Observation: \u001b[36;1m\u001b[1;3m4\n",
      "\u001b[0m\n",
      "Thought:\u001b[32;1m\u001b[1;3mFinal Answer: 4\u001b[0m\n",
      "\n",
      "\u001b[1m> Finished chain.\u001b[0m\n"
     ]
    },
    {
     "name": "stderr",
     "output_type": "stream",
     "text": [
      "C:\\Users\\91782\\AppData\\Local\\Programs\\Python\\Python310\\lib\\site-packages\\langchain_core\\_api\\deprecation.py:117: LangChainDeprecationWarning: The function `run` was deprecated in LangChain 0.1.0 and will be removed in 0.2.0. Use invoke instead.\n",
      "  warn_deprecated(\n"
     ]
    },
    {
     "data": {
      "text/plain": [
       "'4'"
      ]
     },
     "execution_count": 7,
     "metadata": {},
     "output_type": "execute_result"
    }
   ],
   "source": [
    "#invoke the agent\n",
    "agent.run(\"what is 2+2\")"
   ]
  },
  {
   "cell_type": "code",
   "execution_count": null,
   "id": "266488a6-cba6-4ae4-bc6a-6d89c122c7d1",
   "metadata": {},
   "outputs": [],
   "source": []
  }
 ],
 "metadata": {
  "kernelspec": {
   "display_name": "Python 3 (ipykernel)",
   "language": "python",
   "name": "python3"
  },
  "language_info": {
   "codemirror_mode": {
    "name": "ipython",
    "version": 3
   },
   "file_extension": ".py",
   "mimetype": "text/x-python",
   "name": "python",
   "nbconvert_exporter": "python",
   "pygments_lexer": "ipython3",
   "version": "3.10.7"
  }
 },
 "nbformat": 4,
 "nbformat_minor": 5
}
